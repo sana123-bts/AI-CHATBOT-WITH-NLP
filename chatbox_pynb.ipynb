{
  "nbformat": 4,
  "nbformat_minor": 0,
  "metadata": {
    "colab": {
      "provenance": []
    },
    "kernelspec": {
      "name": "python3",
      "display_name": "Python 3"
    },
    "language_info": {
      "name": "python"
    }
  },
  "cells": [
    {
      "cell_type": "code",
      "execution_count": null,
      "metadata": {
        "colab": {
          "base_uri": "https://localhost:8080/"
        },
        "id": "jFqICf-gj90d",
        "outputId": "755e8706-d89c-4bef-eb21-348a26e7c8db"
      },
      "outputs": [
        {
          "output_type": "stream",
          "name": "stdout",
          "text": [
            "Requirement already satisfied: nltk in /usr/local/lib/python3.11/dist-packages (3.9.1)\n",
            "Requirement already satisfied: click in /usr/local/lib/python3.11/dist-packages (from nltk) (8.2.1)\n",
            "Requirement already satisfied: joblib in /usr/local/lib/python3.11/dist-packages (from nltk) (1.5.1)\n",
            "Requirement already satisfied: regex>=2021.8.3 in /usr/local/lib/python3.11/dist-packages (from nltk) (2024.11.6)\n",
            "Requirement already satisfied: tqdm in /usr/local/lib/python3.11/dist-packages (from nltk) (4.67.1)\n"
          ]
        }
      ],
      "source": [
        "%pip install nltk\n"
      ]
    },
    {
      "cell_type": "code",
      "source": [
        "import nltk\n",
        "import random\n",
        "from nltk.chat.util import Chat, reflections\n",
        "\n",
        "# Download required resources\n",
        "nltk.download('punkt')\n",
        "\n",
        "# Define pairs of patterns and responses\n",
        "pairs = [\n",
        "    [\n",
        "        r\"hi|hello|hey\",\n",
        "        [\"Hello!\", \"Hi there!\", \"Hey! How can I help you?\"]\n",
        "    ],\n",
        "    [\n",
        "        r\"what is your name ?\",\n",
        "        [\"I'm a chatbot created using NLTK. You can call me ChatBot.\"]\n",
        "    ],\n",
        "    [\n",
        "        r\"how are you ?\",\n",
        "        [\"I'm doing well, thank you!\", \"Great! How can I assist you today?\"]\n",
        "    ],\n",
        "    [\n",
        "        r\"what (.*) want ?\",\n",
        "        [\"I just want to help you with your questions.\"]\n",
        "    ],\n",
        "    [\n",
        "        r\"(.*) (location|city) ?\",\n",
        "        [\"I'm based on the internet!\"]\n",
        "    ],\n",
        "    [\n",
        "        r\"how is the weather in (.*)?\",\n",
        "        [\"I'm not sure about the weather in %1. Try checking a weather website.\"]\n",
        "    ],\n",
        "    [\n",
        "        r\"quit\",\n",
        "        [\"Bye! Have a great day.\", \"Goodbye!\"]\n",
        "    ],\n",
        "    [\n",
        "        r\"(.*)\",\n",
        "        [\"I’m sorry, I don’t understand that. Can you rephrase?\"]\n",
        "    ]\n",
        "]\n",
        "\n",
        "# Create chatbot\n",
        "def chatbot():\n",
        "    print(\"Hi! I'm your chatbot. Type 'quit' to exit.\")\n",
        "    chat = Chat(pairs, reflections)\n",
        "    chat.converse()\n",
        "\n",
        "# Run the chatbot\n",
        "if __name__ == \"__main__\":\n",
        "    chatbot()\n"
      ],
      "metadata": {
        "colab": {
          "base_uri": "https://localhost:8080/"
        },
        "id": "HS-6udXRkb3u",
        "outputId": "b5d1a629-3908-418d-a092-a8daadda2017"
      },
      "execution_count": null,
      "outputs": [
        {
          "output_type": "stream",
          "name": "stderr",
          "text": [
            "[nltk_data] Downloading package punkt to /root/nltk_data...\n",
            "[nltk_data]   Unzipping tokenizers/punkt.zip.\n"
          ]
        },
        {
          "output_type": "stream",
          "name": "stdout",
          "text": [
            "Hi! I'm your chatbot. Type 'quit' to exit.\n",
            ">hi\n",
            "Hey! How can I help you?\n",
            ">what is your name?\n",
            "I'm a chatbot created using NLTK. You can call me ChatBot.\n",
            ">how are you?\n",
            "I'm doing well, thank you!\n",
            ">what (.*) want?\n",
            "I just want to help you with your questions.\n",
            ">quit\n",
            "Goodbye!\n"
          ]
        }
      ]
    },
    {
      "cell_type": "code",
      "source": [],
      "metadata": {
        "id": "d8TAFjFilG3_"
      },
      "execution_count": null,
      "outputs": []
    }
  ]
}